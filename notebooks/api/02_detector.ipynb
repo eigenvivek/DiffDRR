{
 "cells": [
  {
   "cell_type": "raw",
   "id": "0135d595",
   "metadata": {},
   "source": [
    "---\n",
    "title: detector\n",
    "description: Set up the 7 degrees-of-freedom parameters for the C-arm\n",
    "output-file: detector.html\n",
    "---"
   ]
  },
  {
   "cell_type": "code",
   "execution_count": null,
   "id": "f264d14e",
   "metadata": {},
   "outputs": [],
   "source": [
    "#| default_exp detector"
   ]
  },
  {
   "cell_type": "code",
   "execution_count": null,
   "id": "466ed426",
   "metadata": {},
   "outputs": [],
   "source": [
    "#| hide\n",
    "from nbdev.showdoc import *"
   ]
  },
  {
   "cell_type": "code",
   "execution_count": null,
   "id": "b758e4f3",
   "metadata": {},
   "outputs": [],
   "source": [
    "#| export\n",
    "from __future__ import annotations\n",
    "\n",
    "import torch\n",
    "from fastcore.basics import patch\n",
    "from torch.nn.functional import normalize"
   ]
  },
  {
   "cell_type": "raw",
   "id": "37d3ffb6-33ea-4885-80be-f78d3d82f498",
   "metadata": {},
   "source": [
    "::: {.callout-tip}\n",
    "The `Detector` is usually initialized in the `DRR` module and shouldn't need to be called directly.\n",
    ":::"
   ]
  },
  {
   "cell_type": "code",
   "execution_count": null,
   "id": "529b92a4-2f71-4d40-a25f-03cc4bc3eb6b",
   "metadata": {},
   "outputs": [],
   "source": [
    "#| export\n",
    "from diffdrr.pose import RigidTransform\n",
    "\n",
    "\n",
    "class Detector(torch.nn.Module):\n",
    "    \"\"\"Construct a 6 DoF X-ray detector system. This model is based on a C-Arm.\"\"\"\n",
    "\n",
    "    def __init__(\n",
    "        self,\n",
    "        sdd: float,  # Source-to-detector distance (in units length)\n",
    "        height: int,  # Y-direction length (in units pixels)\n",
    "        width: int,  # X-direction length (in units pixels)\n",
    "        delx: float,  # X-direction spacing (in units length / pixel)\n",
    "        dely: float,  # Y-direction spacing (in units length / pixel)\n",
    "        x0: float,  # Principal point x-coordinate (in units length)\n",
    "        y0: float,  # Principal point y-coordinate (in units length)\n",
    "        reorient: torch.Tensor,  # Frame-of-reference change matrix\n",
    "        n_subsample: int | None = None,  # Number of target points to randomly sample\n",
    "        reverse_x_axis: bool = False,  # If pose includes reflection (in E(3) not SE(3)), reverse x-axis\n",
    "    ):\n",
    "        super().__init__()\n",
    "        self.height = height\n",
    "        self.width = width\n",
    "        self.n_subsample = n_subsample\n",
    "        if self.n_subsample is not None:\n",
    "            self.subsamples = []\n",
    "        self.reverse_x_axis = reverse_x_axis\n",
    "\n",
    "        # Initialize the source and detector plane in default positions (along the x-axis)\n",
    "        source, target = self._initialize_carm()\n",
    "        self.register_buffer(\"source\", source)\n",
    "        self.register_buffer(\"target\", target)\n",
    "\n",
    "        # Create a pose to reorient the scanner\n",
    "        self.register_buffer(\"_reorient\", reorient)\n",
    "\n",
    "        # Create a calibration matrix that holds the detector's intrinsic parameters\n",
    "        self.register_buffer(\n",
    "            \"_calibration\",\n",
    "            torch.tensor(\n",
    "                [\n",
    "                    [delx, 0, 0, x0],\n",
    "                    [0, dely, 0, y0],\n",
    "                    [0, 0, sdd, 0],\n",
    "                    [0, 0, 0, 1],\n",
    "                ]\n",
    "            ),\n",
    "        )\n",
    "\n",
    "    @property\n",
    "    def sdd(self):\n",
    "        return self._calibration[2, 2].item()\n",
    "\n",
    "    @property\n",
    "    def delx(self):\n",
    "        return self._calibration[0, 0].item()\n",
    "\n",
    "    @property\n",
    "    def dely(self):\n",
    "        return self._calibration[1, 1].item()\n",
    "\n",
    "    @property\n",
    "    def x0(self):\n",
    "        return -self._calibration[0, -1].item()\n",
    "\n",
    "    @property\n",
    "    def y0(self):\n",
    "        return -self._calibration[1, -1].item()\n",
    "\n",
    "    @property\n",
    "    def reorient(self):\n",
    "        return RigidTransform(self._reorient)\n",
    "\n",
    "    @property\n",
    "    def calibration(self):\n",
    "        \"\"\"A 4x4 matrix that rescales the detector plane to world coordinates.\"\"\"\n",
    "        return RigidTransform(self._calibration)\n",
    "\n",
    "    @property\n",
    "    def intrinsic(self):\n",
    "        \"\"\"The 3x3 intrinsic matrix.\"\"\"\n",
    "        return make_intrinsic_matrix(self).to(self.source)"
   ]
  },
  {
   "cell_type": "code",
   "execution_count": null,
   "id": "b8ad63f4-0e38-4ea2-87b0-f298639dc9a9",
   "metadata": {},
   "outputs": [],
   "source": [
    "#| export\n",
    "@patch\n",
    "def _initialize_carm(self: Detector):\n",
    "    \"\"\"Initialize the default position for the source and detector plane.\"\"\"\n",
    "    try:\n",
    "        device = self.sdd.device\n",
    "    except AttributeError:\n",
    "        device = torch.device(\"cpu\")\n",
    "\n",
    "    # Initialize the source at the origin and the center of the detector plane on the positive z-axis\n",
    "    source = torch.tensor([[0.0, 0.0, 0.0]], device=device)\n",
    "    center = torch.tensor([[0.0, 0.0, 1.0]], device=device)\n",
    "\n",
    "    # Use the standard basis for the detector plane\n",
    "    basis = torch.tensor([[0.0, 1.0, 0.0], [1.0, 0.0, 0.0]], device=device)\n",
    "\n",
    "    # Construct the detector plane with different offsets for even or odd heights\n",
    "    # These ensure that the detector plane is centered around (0, 0, 1)\n",
    "    h_off = 1.0 if self.height % 2 else 0.5\n",
    "    w_off = 1.0 if self.width % 2 else 0.5\n",
    "\n",
    "    # Construct equally spaced points along the basis vectors\n",
    "    t = torch.arange(-self.height // 2, self.height // 2, device=device) + h_off\n",
    "    s = torch.arange(-self.width // 2, self.width // 2, device=device) + w_off\n",
    "\n",
    "    t = -t\n",
    "    s = -s\n",
    "    if not self.reverse_x_axis:\n",
    "        s = -s\n",
    "\n",
    "    coefs = torch.cartesian_prod(t, s).reshape(-1, 2)\n",
    "    target = torch.einsum(\"cd,nc->nd\", basis, coefs)\n",
    "    target += center\n",
    "\n",
    "    # Add a batch dimension to the source and target so multiple poses can be passed at once\n",
    "    source = source.unsqueeze(0)\n",
    "    target = target.unsqueeze(0)\n",
    "\n",
    "    if self.n_subsample is not None:\n",
    "        sample = torch.randperm(self.height * self.width)[: int(self.n_subsample)]\n",
    "        target = target[:, sample, :]\n",
    "        self.subsamples.append(sample.tolist())\n",
    "    return source, target"
   ]
  },
  {
   "cell_type": "code",
   "execution_count": null,
   "id": "063d06c3-2618-4282-accd-8fe0ab4d3faa",
   "metadata": {},
   "outputs": [],
   "source": [
    "#| export\n",
    "from diffdrr.pose import RigidTransform\n",
    "\n",
    "\n",
    "@patch\n",
    "def forward(self: Detector, extrinsic: RigidTransform, calibration: RigidTransform):\n",
    "    \"\"\"Create source and target points for X-rays to trace through the volume.\"\"\"\n",
    "    if calibration is None:\n",
    "        target = self.calibration(self.target)\n",
    "    else:\n",
    "        target = calibration(self.target)\n",
    "    pose = self.reorient.compose(extrinsic)\n",
    "    source = pose(self.source)\n",
    "    target = pose(target)\n",
    "    return source, target"
   ]
  },
  {
   "cell_type": "markdown",
   "id": "f4558157-a060-4add-b4ca-22600a26232d",
   "metadata": {},
   "source": [
    "## Intrinsic matrix parsing\n",
    "From a calibrated camera's intrinsic matrix, calculate the following properties:\n",
    "\n",
    "- Focal length (in units length)\n",
    "- Principal point (in units length)"
   ]
  },
  {
   "cell_type": "code",
   "execution_count": null,
   "id": "4c0f02f6-c27e-4bdc-a204-31ba5c9f73de",
   "metadata": {},
   "outputs": [],
   "source": [
    "#| export\n",
    "def get_focal_length(\n",
    "    intrinsic,  # Intrinsic matrix (3 x 3 tensor)\n",
    "    delx: float,  # X-direction spacing (in units length)\n",
    "    dely: float,  # Y-direction spacing (in units length)\n",
    ") -> float:  # Focal length (in units length)\n",
    "    fx = intrinsic[0, 0]\n",
    "    fy = intrinsic[1, 1]\n",
    "    return abs((fx * delx) + (fy * dely)).item() / 2.0"
   ]
  },
  {
   "cell_type": "code",
   "execution_count": null,
   "id": "a3535bdf-b819-4c42-9624-00d101b29ded",
   "metadata": {},
   "outputs": [],
   "source": [
    "#| export\n",
    "def get_principal_point(\n",
    "    intrinsic,  # Intrinsic matrix (3 x 3 tensor)\n",
    "    height: int,  # Y-direction length (in units pixels)\n",
    "    width: int,  # X-direction length (in units pixels)\n",
    "    delx: float,  # X-direction spacing (in units length)\n",
    "    dely: float,  # Y-direction spacing (in units length)\n",
    "):\n",
    "    x0 = delx * (intrinsic[0, 2] - width / 2)\n",
    "    y0 = dely * (intrinsic[1, 2] - height / 2)\n",
    "    return x0.item(), y0.item()"
   ]
  },
  {
   "cell_type": "code",
   "execution_count": null,
   "id": "750cb0fe-c96a-4c76-a2cd-51a74fdc6b05",
   "metadata": {},
   "outputs": [],
   "source": [
    "#| export\n",
    "def parse_intrinsic_matrix(\n",
    "    intrinsic,  # Intrinsic matrix (3 x 3 tensor)\n",
    "    height: int,  # Y-direction length (in units pixels)\n",
    "    width: int,  # X-direction length (in units pixels)\n",
    "    delx: float,  # X-direction spacing (in units length)\n",
    "    dely: float,  # Y-direction spacing (in units length)\n",
    "):\n",
    "    focal_length = get_focal_length(intrinsic, delx, dely)\n",
    "    x0, y0 = get_principal_point(intrinsic, height, width, delx, dely)\n",
    "    return focal_length, x0, y0"
   ]
  },
  {
   "cell_type": "code",
   "execution_count": null,
   "id": "4e9f01cb-1dbc-4818-8521-e6785c101a82",
   "metadata": {},
   "outputs": [],
   "source": [
    "#| export\n",
    "def make_intrinsic_matrix(detector: Detector):\n",
    "    fx = detector.sdd / detector.delx\n",
    "    fy = detector.sdd / detector.dely\n",
    "    u0 = detector.x0 / detector.delx + detector.width / 2\n",
    "    v0 = detector.y0 / detector.dely + detector.height / 2\n",
    "    return torch.tensor(\n",
    "        [\n",
    "            [fx, 0.0, u0],\n",
    "            [0.0, fy, v0],\n",
    "            [0.0, 0.0, 1.0],\n",
    "        ]\n",
    "    )"
   ]
  },
  {
   "cell_type": "code",
   "execution_count": null,
   "id": "ceeefd04",
   "metadata": {},
   "outputs": [],
   "source": [
    "#| hide\n",
    "import nbdev\n",
    "\n",
    "nbdev.nbdev_export()"
   ]
  },
  {
   "cell_type": "code",
   "execution_count": null,
   "id": "46ed11e0-ac81-43d4-aa6c-551891a9a722",
   "metadata": {},
   "outputs": [],
   "source": []
  }
 ],
 "metadata": {
  "kernelspec": {
   "display_name": "python3",
   "language": "python",
   "name": "python3"
  },
  "widgets": {
   "application/vnd.jupyter.widget-state+json": {
    "state": {},
    "version_major": 2,
    "version_minor": 0
   }
  }
 },
 "nbformat": 4,
 "nbformat_minor": 5
}
