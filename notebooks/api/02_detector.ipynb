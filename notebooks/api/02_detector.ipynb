{
 "cells": [
  {
   "cell_type": "raw",
   "id": "0135d595",
   "metadata": {},
   "source": [
    "---\n",
    "title: Detector (C-Arm)\n",
    "description: Set up the 7 degrees-of-freedom parameters for the C-arm\n",
    "output-file: detector.html\n",
    "---"
   ]
  },
  {
   "cell_type": "code",
   "execution_count": null,
   "id": "f264d14e",
   "metadata": {},
   "outputs": [],
   "source": [
    "#| default_exp detector"
   ]
  },
  {
   "cell_type": "code",
   "execution_count": null,
   "id": "466ed426",
   "metadata": {},
   "outputs": [],
   "source": [
    "#| hide\n",
    "from nbdev.showdoc import *"
   ]
  },
  {
   "cell_type": "code",
   "execution_count": null,
   "id": "b758e4f3",
   "metadata": {},
   "outputs": [],
   "source": [
    "#| export\n",
    "from __future__ import annotations\n",
    "\n",
    "import torch\n",
    "from fastcore.basics import patch\n",
    "from torch.nn.functional import normalize"
   ]
  },
  {
   "cell_type": "code",
   "execution_count": null,
   "id": "09833301-31d9-4515-ac33-c33c6784d7ed",
   "metadata": {},
   "outputs": [],
   "source": [
    "#| exporti\n",
    "try:\n",
    "    import pytorch3d\n",
    "except ModuleNotFoundError:\n",
    "    install = \"https://github.com/facebookresearch/pytorch3d/blob/main/INSTALL.md\"\n",
    "    raise ModuleNotFoundError(\n",
    "        f\"PyTorch3D is not installed, which is required to parameterize camera poses. See installation instructions here: {install}\"\n",
    "    )"
   ]
  },
  {
   "cell_type": "raw",
   "id": "37d3ffb6-33ea-4885-80be-f78d3d82f498",
   "metadata": {},
   "source": [
    "::: {.callout-tip}\n",
    "The `Detector` is usually initialized in the `DRR` module and shouldn't need to be called directly.\n",
    ":::"
   ]
  },
  {
   "cell_type": "code",
   "execution_count": null,
   "id": "529b92a4-2f71-4d40-a25f-03cc4bc3eb6b",
   "metadata": {},
   "outputs": [],
   "source": [
    "#| export\n",
    "class Detector(torch.nn.Module):\n",
    "    \"\"\"Construct a 6 DoF X-ray detector system. This model is based on a C-Arm.\"\"\"\n",
    "\n",
    "    def __init__(\n",
    "        self,\n",
    "        sdr: float,  # Source-to-detector radius (half of the source-to-detector distance)\n",
    "        height: int,  # Height of the X-ray detector\n",
    "        width: int,  # Width of the X-ray detector\n",
    "        delx: float,  # Pixel spacing in the X-direction\n",
    "        dely: float,  # Pixel spacing in the Y-direction\n",
    "        n_subsample: int | None = None,  # Number of target points to randomly sample\n",
    "        reverse_x_axis: bool = False,  # If pose includes reflection (in E(3) not SE(3)), reverse x-axis\n",
    "        mode: str = \"perspective\",  # Either `perspective` or `orthographic`\n",
    "    ):\n",
    "        super().__init__()\n",
    "        self.sdr = sdr\n",
    "        self.height = height\n",
    "        self.width = width\n",
    "        self.delx = delx\n",
    "        self.dely = dely\n",
    "        self.n_subsample = n_subsample\n",
    "        if self.n_subsample is not None:\n",
    "            self.subsamples = []\n",
    "        self.reverse_x_axis = reverse_x_axis\n",
    "        if mode not in [\"perspective\", \"orthographic\"]:\n",
    "            raise ValueError(f\"mode must be 'perspective' or 'orthographic', not {mode}\")\n",
    "        self.mode = mode\n",
    "\n",
    "        # Initialize the source and detector plane in default positions (along the x-axis)\n",
    "        source, target = self._initialize_carm()\n",
    "        self.register_buffer(\"source\", source)\n",
    "        self.register_buffer(\"target\", target)"
   ]
  },
  {
   "cell_type": "code",
   "execution_count": null,
   "id": "b8ad63f4-0e38-4ea2-87b0-f298639dc9a9",
   "metadata": {},
   "outputs": [
    {
     "ename": "NameError",
     "evalue": "name 'patch' is not defined",
     "output_type": "error",
     "traceback": [
      "\u001b[0;31m---------------------------------------------------------------------------\u001b[0m",
      "\u001b[0;31mNameError\u001b[0m                                 Traceback (most recent call last)",
      "Cell \u001b[0;32mIn[1], line 2\u001b[0m\n\u001b[1;32m      1\u001b[0m \u001b[38;5;66;03m#| export\u001b[39;00m\n\u001b[0;32m----> 2\u001b[0m \u001b[38;5;129m@patch\u001b[39m\n\u001b[1;32m      3\u001b[0m \u001b[38;5;28;01mdef\u001b[39;00m \u001b[38;5;21m_initialize_carm\u001b[39m(\u001b[38;5;28mself\u001b[39m: Detector):\n\u001b[1;32m      4\u001b[0m \u001b[38;5;250m    \u001b[39m\u001b[38;5;124;03m\"\"\"Initialize the default position for the source and detector plane.\"\"\"\u001b[39;00m\n\u001b[1;32m      5\u001b[0m     \u001b[38;5;66;03m# Initialize the source on the x-axis\u001b[39;00m\n",
      "\u001b[0;31mNameError\u001b[0m: name 'patch' is not defined"
     ]
    }
   ],
   "source": [
    "#| export\n",
    "@patch\n",
    "def _initialize_carm(self: Detector):\n",
    "    \"\"\"Initialize the default position for the source and detector plane.\"\"\"\n",
    "    # Initialize the source on the x-axis\n",
    "    if self.mode == \"perspective\":\n",
    "        source = torch.tensor([[self.sdr, 0.0, 0.0]])\n",
    "    else:\n",
    "        source = torch.tensor([[1e6, 0.0, 0.0]])\n",
    "\n",
    "    # Initialize the center of the detector plane on the negative x-axis\n",
    "    center = torch.tensor([[-self.sdr, 0.0, 0.0]])\n",
    "\n",
    "    # Use the standard basis for the detector plane\n",
    "    basis = torch.tensor([[0.0, 1.0, 0.0], [0.0, 0.0, 1.0]])\n",
    "\n",
    "    # Construct the detector plane with different offsets for even or odd heights\n",
    "    h_off = 1.0 if self.height % 2 else 0.5\n",
    "    w_off = 1.0 if self.width % 2 else 0.5\n",
    "\n",
    "    # Construct equally spaced points along the basis vectors\n",
    "    t = (torch.arange(-self.height // 2, self.height // 2) + h_off) * self.delx\n",
    "    s = (torch.arange(-self.width // 2, self.width // 2) + w_off) * self.dely\n",
    "    if self.reverse_x_axis:\n",
    "        s = -s\n",
    "    coefs = torch.cartesian_prod(t, s).reshape(-1, 2)\n",
    "    target = torch.einsum(\"cd,nc->nd\", basis, coefs)\n",
    "    target += center\n",
    "\n",
    "    # Batch source and target\n",
    "    source = source.unsqueeze(0)\n",
    "    target = target.unsqueeze(0)\n",
    "\n",
    "    if self.n_subsample is not None:\n",
    "        sample = torch.randperm(self.height * self.width)[: int(self.n_subsample)]\n",
    "        target = target[:, sample, :]\n",
    "        self.subsamples.append(sample.tolist())\n",
    "    return source, target"
   ]
  },
  {
   "cell_type": "code",
   "execution_count": null,
   "id": "063d06c3-2618-4282-accd-8fe0ab4d3faa",
   "metadata": {},
   "outputs": [],
   "source": [
    "#| export\n",
    "from pytorch3d.transforms import Transform3d\n",
    "\n",
    "from diffdrr.utils import convert\n",
    "\n",
    "\n",
    "@patch\n",
    "def forward(\n",
    "    self: Detector,\n",
    "    rotation: torch.Tensor,  # Some (batched) representation of a rotation\n",
    "    translation: torch.Tensor,  # Batch of C-arm translation (bx, by, bz)\n",
    "    parameterization: str,  # Specifies the representation of the rotation\n",
    "    convention: str,  # If parameterization is Euler angles, specify convention\n",
    "):\n",
    "    \"\"\"Create source and target points for X-rays to trace through the volume.\"\"\"\n",
    "    if parameterization == \"euler_angles\" and convention is None:\n",
    "        raise ValueError(\n",
    "            \"convention for Euler angles must be specified as a 3 letter combination of [X, Y, Z]\"\n",
    "        )\n",
    "\n",
    "    # Convert rotation representation to a rotation matrix, R\n",
    "    # Transpose R to convert to right-handed convention for PyTorch3D\n",
    "    R = convert(rotation, parameterization, \"matrix\", input_convention=convention)\n",
    "    R = R.transpose(-1, -2)\n",
    "    t = Transform3d(device=rotation.device).rotate(R).translate(translation)\n",
    "    source, target = make_xrays(t, self.source, self.target)\n",
    "    return source, target"
   ]
  },
  {
   "cell_type": "code",
   "execution_count": null,
   "id": "ea7ffb2f-20a3-4e2d-a04f-d9151f5c6137",
   "metadata": {},
   "outputs": [],
   "source": [
    "#| exporti\n",
    "def make_xrays(t: Transform3d, source: torch.Tensor, target: torch.Tensor):\n",
    "    source = t.transform_points(source)\n",
    "    target = t.transform_points(target)\n",
    "    return source, target"
   ]
  },
  {
   "cell_type": "code",
   "execution_count": null,
   "id": "13e35b1b-13d1-4067-b96c-ecf0b2045d94",
   "metadata": {},
   "outputs": [],
   "source": [
    "#| export\n",
    "def diffdrr_to_deepdrr(euler_angles):\n",
    "    alpha, beta, gamma = euler_angles.unbind(-1)\n",
    "    return torch.stack([beta, alpha, gamma], dim=1)"
   ]
  },
  {
   "cell_type": "code",
   "execution_count": null,
   "id": "ceeefd04",
   "metadata": {},
   "outputs": [],
   "source": [
    "#| hide\n",
    "import nbdev\n",
    "\n",
    "nbdev.nbdev_export()"
   ]
  },
  {
   "cell_type": "code",
   "execution_count": null,
   "id": "46ed11e0-ac81-43d4-aa6c-551891a9a722",
   "metadata": {},
   "outputs": [],
   "source": []
  }
 ],
 "metadata": {
  "kernelspec": {
   "display_name": "python3",
   "language": "python",
   "name": "python3"
  }
 },
 "nbformat": 4,
 "nbformat_minor": 5
}
