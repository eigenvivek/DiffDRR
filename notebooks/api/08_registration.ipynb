{
 "cells": [
  {
   "cell_type": "raw",
   "id": "fe66556b-ee39-4397-98c0-a311f0bdc015",
   "metadata": {},
   "source": [
    "---\n",
    "title: registration\n",
    "subtitle: 2D/3D registration functions\n",
    "skip_exec: true\n",
    "---"
   ]
  },
  {
   "cell_type": "code",
   "execution_count": null,
   "id": "c6ca2d80-78f2-45a4-b075-ec0c7f95b4e2",
   "metadata": {},
   "outputs": [],
   "source": [
    "#| default_exp registration"
   ]
  },
  {
   "cell_type": "code",
   "execution_count": null,
   "id": "20b58b34-dd82-4f10-a683-3a8adfeac2f2",
   "metadata": {},
   "outputs": [],
   "source": [
    "#| hide\n",
    "from nbdev.showdoc import *"
   ]
  },
  {
   "cell_type": "markdown",
   "id": "84328f8c-5d59-4914-a1e3-0ba6342c2bce",
   "metadata": {},
   "source": [
    "## Registration\n",
    "\n",
    "The `Registration` module uses the `DRR` module to perform differentiable 2D-to-3D registration. Initial guesses for the pose parameters are as stored as `nn.Parameters` of the module. This allows the pose parameters to be optimized with any PyTorch optimizer. Furthermore, this design choice allows `DRR` to be used purely as a differentiable renderer."
   ]
  },
  {
   "cell_type": "code",
   "execution_count": null,
   "id": "0139ca12-d4c1-4ff4-8b96-0e34b4d4fa62",
   "metadata": {},
   "outputs": [],
   "source": [
    "#| export\n",
    "import torch\n",
    "import torch.nn as nn\n",
    "\n",
    "from diffdrr.drr import DRR\n",
    "from diffdrr.pose import convert\n",
    "\n",
    "\n",
    "class Registration(nn.Module):\n",
    "    \"\"\"Perform automatic 2D-to-3D registration using differentiable rendering.\"\"\"\n",
    "\n",
    "    def __init__(\n",
    "        self,\n",
    "        drr: DRR,  # Preinitialized DRR module\n",
    "        rotation: torch.Tensor,  # Initial guess for rotations\n",
    "        translation: torch.Tensor,  # Initial guess for translations\n",
    "        parameterization: str,  # Specifies the representation of the rotation\n",
    "        convention: str = None,  # If `parameterization` is `euler_angles`, specify convention\n",
    "    ):\n",
    "        super().__init__()\n",
    "        self.drr = drr\n",
    "        self._rotation = nn.Parameter(rotation)\n",
    "        self._translation = nn.Parameter(translation)\n",
    "        self.parameterization = parameterization\n",
    "        self.convention = convention\n",
    "\n",
    "    def forward(self, **kwargs):\n",
    "        return self.drr(self.pose, **kwargs)\n",
    "\n",
    "    @property\n",
    "    def pose(self):\n",
    "        return convert(\n",
    "            self._rotation,\n",
    "            self._translation,\n",
    "            parameterization=self.parameterization,\n",
    "            convention=self.convention,\n",
    "        )\n",
    "\n",
    "    @property\n",
    "    def rotation(self):\n",
    "        return self._rotation\n",
    "\n",
    "    @property\n",
    "    def translation(self):\n",
    "        return self._translation"
   ]
  },
  {
   "cell_type": "markdown",
   "id": "d003dfd1-0b26-4c85-83b5-f22677d997e7",
   "metadata": {},
   "source": [
    "## Pose Regressor\n",
    "\n",
    "We perform patient-specific X-ray to CT registration by pre-training an encoder/decoder architecture. The encoder, `PoseRegressor`, is comprised of two networks:\n",
    "\n",
    "1. A pretrained backbone (i.e., convolutional or transformer network) that extracts features from an input X-ray image.\n",
    "2. A set of two linear layers that decodes these features into camera pose parameters (a rotation and a translation).\n",
    "\n",
    "The decoder is `diffdrr.drr.DRR`, which renders a simulated X-ray from the predicted pose parameters. Because our renderer is differentiable, a loss metric on the simulated X-ray and the input X-ray can be backpropogated to the encoder."
   ]
  },
  {
   "cell_type": "code",
   "execution_count": null,
   "id": "63567398-0630-4b95-9d76-6d6c9cc85581",
   "metadata": {},
   "outputs": [],
   "source": [
    "#| export\n",
    "import timm\n",
    "\n",
    "from diffdrr.pose import RigidTransform\n",
    "\n",
    "\n",
    "class PoseRegressor(torch.nn.Module):\n",
    "    \"\"\"\n",
    "    A PoseRegressor is comprised of a pretrained backbone model that extracts features\n",
    "    from an input X-ray and two linear layers that decode these features into rotational\n",
    "    and translational camera pose parameters, respectively.\n",
    "    \"\"\"\n",
    "\n",
    "    def __init__(\n",
    "        self,\n",
    "        model_name,\n",
    "        parameterization,\n",
    "        convention=None,\n",
    "        pretrained=False,\n",
    "        height=256,\n",
    "        **kwargs,\n",
    "    ):\n",
    "        super().__init__()\n",
    "\n",
    "        self.parameterization = parameterization\n",
    "        self.convention = convention\n",
    "        n_angular_components = N_ANGULAR_COMPONENTS[parameterization]\n",
    "\n",
    "        # Get the size of the output from the backbone\n",
    "        self.backbone = timm.create_model(\n",
    "            model_name,\n",
    "            pretrained,\n",
    "            num_classes=0,\n",
    "            in_chans=1,\n",
    "            **kwargs,\n",
    "        )\n",
    "        output = self.backbone(torch.randn(1, 1, height, height)).shape[-1]\n",
    "        self.xyz_regression = torch.nn.Linear(output, 3)\n",
    "        self.rot_regression = torch.nn.Linear(output, n_angular_components)\n",
    "\n",
    "    def forward(self, x):\n",
    "        x = self.backbone(x)\n",
    "        rot = self.rot_regression(x)\n",
    "        xyz = self.xyz_regression(x)\n",
    "        return rot, xyz"
   ]
  },
  {
   "cell_type": "code",
   "execution_count": null,
   "id": "0ab6767f-d830-4889-a41c-a6efd60390df",
   "metadata": {},
   "outputs": [],
   "source": [
    "#| exporti\n",
    "N_ANGULAR_COMPONENTS = {\n",
    "    \"axis_angle\": 3,\n",
    "    \"euler_angles\": 3,\n",
    "    \"se3_log_map\": 3,\n",
    "    \"quaternion\": 4,\n",
    "    \"rotation_6d\": 6,\n",
    "    \"rotation_9d\": 9,\n",
    "    \"rotation_10d\": 10,\n",
    "    \"quaternion_adjugate\": 10,\n",
    "}"
   ]
  },
  {
   "cell_type": "code",
   "execution_count": null,
   "id": "c85e3373-4f51-49a7-b8d0-7a929df45d9d",
   "metadata": {},
   "outputs": [],
   "source": [
    "#| hide\n",
    "import nbdev\n",
    "\n",
    "nbdev.nbdev_export()"
   ]
  },
  {
   "cell_type": "code",
   "execution_count": null,
   "id": "14f9aa95-5fb9-4296-a4bd-92be70230c27",
   "metadata": {},
   "outputs": [],
   "source": []
  }
 ],
 "metadata": {
  "kernelspec": {
   "display_name": "python3",
   "language": "python",
   "name": "python3"
  },
  "widgets": {
   "application/vnd.jupyter.widget-state+json": {
    "state": {},
    "version_major": 2,
    "version_minor": 0
   }
  }
 },
 "nbformat": 4,
 "nbformat_minor": 5
}
