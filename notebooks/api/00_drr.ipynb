{
 "cells": [
  {
   "cell_type": "raw",
   "id": "12e70d79",
   "metadata": {},
   "source": [
    "---\n",
    "description: Module for computing digitally reconstructed radiographs\n",
    "output-file: drr.html\n",
    "title: DRR\n",
    "---"
   ]
  },
  {
   "cell_type": "code",
   "execution_count": null,
   "id": "70fcd770",
   "metadata": {},
   "outputs": [],
   "source": [
    "#| default_exp drr"
   ]
  },
  {
   "cell_type": "code",
   "execution_count": null,
   "id": "8e5be32e",
   "metadata": {},
   "outputs": [],
   "source": [
    "#| hide\n",
    "from nbdev.showdoc import *"
   ]
  },
  {
   "cell_type": "code",
   "execution_count": null,
   "id": "ce95e1ac-413e-407b-87ad-0c7db3a945de",
   "metadata": {},
   "outputs": [],
   "source": [
    "#| export\n",
    "from __future__ import annotations\n",
    "\n",
    "import numpy as np\n",
    "import torch\n",
    "import torch.nn as nn\n",
    "from fastcore.basics import patch\n",
    "\n",
    "from diffdrr.detector import Detector\n",
    "from diffdrr.siddon import siddon_raycast\n",
    "from diffdrr.utils import reshape_subsampled_drr"
   ]
  },
  {
   "cell_type": "markdown",
   "id": "8fd42817-b14a-42a4-bf73-c7ea4da2890c",
   "metadata": {},
   "source": [
    "## DRR\n",
    "`DRR` is a PyTorch module that compues differentiable digitally reconstructed radiographs.\n",
    "\n",
    "### X-ray pose parameters\n",
    "\n",
    "The viewing angle for the DRR (known generally in computer graphics as *pose parameters*) is parameterized by the following parameters:\n",
    "\n",
    "- `sdr`   : Source-to-Detector radius (half of the source-to-detector distance)\n",
    "- `theta` : Azimuthal angle\n",
    "- `phi`   : Polar angle\n",
    "- `gamma` : Plane rotation angle\n",
    "- `bx`    : X-dir translation\n",
    "- `by`    : Y-dir translation\n",
    "- `bz`    : Z-dir translation\n",
    "\n",
    "`(bx, by, bz)` are translational parameters and `(theta, phi, gamma)` are rotational parameters. The rotational parameters are detailed in [Spherical Coordiantes Tutorial](https://vivekg.dev/DiffDRR/tutorials/spherical.html)."
   ]
  },
  {
   "cell_type": "code",
   "execution_count": null,
   "id": "97297d06-6772-4dc7-8af5-d1ea7b379d8d",
   "metadata": {},
   "outputs": [],
   "source": [
    "#| export\n",
    "class DRR(nn.Module):\n",
    "    \"\"\"PyTorch module that computes differentiable digitally reconstructed radiographs.\"\"\"\n",
    "\n",
    "    def __init__(\n",
    "        self,\n",
    "        volume: np.ndarray,  # CT volume\n",
    "        spacing: np.ndarray,  # Dimensions of voxels in the CT volume\n",
    "        sdr: float,  # Source-to-detector radius for the C-arm (half of the source-to-detector distance)\n",
    "        height: int,  # Height of the rendered DRR\n",
    "        delx: float,  # X-axis pixel size\n",
    "        width: int | None = None,  # Width of the rendered DRR (if not provided, set to `height`)\n",
    "        dely: float | None = None,  # Y-axis pixel size (if not provided, set to `delx`)\n",
    "        p_subsample: float | None = None,  # Proportion of pixels to randomly subsample\n",
    "        reshape: bool = True,  # Return DRR with shape (b, h, w)\n",
    "        convention: str = \"diffdrr\",  # Either `diffdrr` or `deepdrr`, order of basis matrix multiplication\n",
    "    ):\n",
    "        super().__init__()\n",
    "\n",
    "        # Initialize the X-ray detector\n",
    "        width = height if width is None else width\n",
    "        dely = delx if dely is None else dely\n",
    "        self.detector = Detector(\n",
    "            sdr,\n",
    "            height,\n",
    "            width,\n",
    "            delx,\n",
    "            dely,\n",
    "            n_subsample=int(height * width * p_subsample)\n",
    "            if p_subsample is not None\n",
    "            else None,\n",
    "            convention=convention,\n",
    "        )\n",
    "\n",
    "        # Initialize the volume\n",
    "        self.register_buffer(\"spacing\", torch.tensor(spacing))\n",
    "        self.register_buffer(\"volume\", torch.tensor(volume).flip([0]))\n",
    "        self.reshape = reshape\n",
    "\n",
    "        # Dummy tensor for device and dtype\n",
    "        self.register_buffer(\"dummy\", torch.tensor([0.0]))\n",
    "\n",
    "    def reshape_transform(self, img, batch_size):\n",
    "        if self.reshape:\n",
    "            if self.detector.n_subsample is None:\n",
    "                img = img.view(-1, 1, self.detector.height, self.detector.width)\n",
    "            else:\n",
    "                img = reshape_subsampled_drr(img, self.detector, batch_size)\n",
    "        return img"
   ]
  },
  {
   "cell_type": "markdown",
   "id": "a99e203d-cc9e-414d-bd8e-a4053f858625",
   "metadata": {},
   "source": [
    "The forward pass of the `DRR` module generated DRRs from the input CT volume. The pose parameters (i.e., viewing angles) from which the DRRs are generated are passed to the forward call."
   ]
  },
  {
   "cell_type": "code",
   "execution_count": null,
   "id": "27b19dfc-6a15-4896-9faa-20faee84dc1f",
   "metadata": {},
   "outputs": [],
   "source": [
    "#| export\n",
    "@patch\n",
    "def forward(self: DRR, rotations: torch.Tensor, translations: torch.Tensor):\n",
    "    \"\"\"Generate DRR with rotations and translations parameters.\"\"\"\n",
    "    assert len(rotations) == len(translations)\n",
    "    batch_size = len(rotations)\n",
    "    source, target = self.detector.make_xrays(\n",
    "        rotations=rotations,\n",
    "        translations=translations,\n",
    "    )\n",
    "    img = siddon_raycast(source, target, self.volume, self.spacing)\n",
    "    return self.reshape_transform(img, batch_size=batch_size)"
   ]
  },
  {
   "cell_type": "markdown",
   "id": "10bc1b2b-a444-45dc-8430-56646d54f95f",
   "metadata": {},
   "source": [
    "## Registration\n",
    "\n",
    "The `Registration` module uses the `DRR` module to perform differentiable 2D-to-3D registration. Initial guesses for the pose parameters are as stored as `nn.Parameters` of the module. This allows the pose parameters to be optimized with any PyTorch optimizer. Furthermore, this design choice allows `DRR` to be used purely as a differentiable renderer."
   ]
  },
  {
   "cell_type": "code",
   "execution_count": null,
   "id": "868fd7b9-e83d-43dd-89e2-3d49e0434da9",
   "metadata": {},
   "outputs": [],
   "source": [
    "#| export\n",
    "class Registration(nn.Module):\n",
    "    \"\"\"Perform automatic 2D-to-3D registration using differentiable rendering.\"\"\"\n",
    "\n",
    "    def __init__(\n",
    "        self,\n",
    "        drr: DRR,\n",
    "        rotations: torch.Tensor,\n",
    "        translations: torch.Tensor,\n",
    "    ):\n",
    "        super().__init__()\n",
    "        self.drr = drr\n",
    "        self.rotations = nn.Parameter(rotations)\n",
    "        self.translations = nn.Parameter(translations)\n",
    "\n",
    "    def forward(self):\n",
    "        return self.drr(self.rotations, self.translations)"
   ]
  },
  {
   "cell_type": "code",
   "execution_count": null,
   "id": "d95beb27",
   "metadata": {},
   "outputs": [],
   "source": [
    "#| hide\n",
    "import nbdev\n",
    "\n",
    "nbdev.nbdev_export()"
   ]
  },
  {
   "cell_type": "code",
   "execution_count": null,
   "id": "7b1a9e0b-0daf-4f74-b1e1-3f79fb52ae6f",
   "metadata": {},
   "outputs": [],
   "source": []
  }
 ],
 "metadata": {
  "kernelspec": {
   "display_name": "python3",
   "language": "python",
   "name": "python3"
  }
 },
 "nbformat": 4,
 "nbformat_minor": 5
}
