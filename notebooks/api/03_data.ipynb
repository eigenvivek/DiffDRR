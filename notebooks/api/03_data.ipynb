{
 "cells": [
  {
   "cell_type": "raw",
   "id": "bb4bed05",
   "metadata": {},
   "source": [
    "---\n",
    "title: data\n",
    "description: Load DICOM datasets as numpy arrays with voxel dimensions\n",
    "output-file: data.html\n",
    "---"
   ]
  },
  {
   "cell_type": "code",
   "execution_count": null,
   "id": "e9649072",
   "metadata": {},
   "outputs": [],
   "source": [
    "#| default_exp data"
   ]
  },
  {
   "cell_type": "code",
   "execution_count": null,
   "id": "2f87221e",
   "metadata": {},
   "outputs": [],
   "source": [
    "#| hide\n",
    "from nbdev.showdoc import *"
   ]
  },
  {
   "cell_type": "code",
   "execution_count": null,
   "id": "cec0581f",
   "metadata": {},
   "outputs": [],
   "source": [
    "#| export\n",
    "from __future__ import annotations\n",
    "\n",
    "from pathlib import Path\n",
    "\n",
    "import numpy as np\n",
    "import pydicom"
   ]
  },
  {
   "cell_type": "code",
   "execution_count": null,
   "id": "ea4d61ea",
   "metadata": {},
   "outputs": [],
   "source": [
    "#| export \n",
    "def read_dicom(dcmdir: Path | str):\n",
    "    \"\"\"Read a directory of DICOM files and return the volume and voxel spacings.\"\"\"\n",
    "\n",
    "    datasets = [pydicom.read_file(path) for path in Path(dcmdir).rglob('*.dcm')]\n",
    "\n",
    "    # Select any DICOM file\n",
    "    any_ds = datasets[0]\n",
    "\n",
    "    # https://dicom.innolitics.com/ciods/ct-image/image-plane/00200037\n",
    "    image_orientation_patient = np.array(any_ds.ImageOrientationPatient, dtype=np.float32)\n",
    "\n",
    "    row_direction = image_orientation_patient[:3]\n",
    "    col_direction = image_orientation_patient[3:]\n",
    "    normal_direction = np.cross(row_direction, col_direction)\n",
    "\n",
    "    # Sort the slices along the normal direction\n",
    "    datasets = sorted(datasets, key=lambda v: np.dot(normal_direction, v.ImagePositionPatient))\n",
    "\n",
    "    nx, ny = any_ds.pixel_array.shape\n",
    "    nz = len(datasets)\n",
    "    del_x, del_y = any_ds.PixelSpacing\n",
    "    del_x, del_y = float(del_x), float(del_y)\n",
    "    volume = np.zeros((nx, ny, nz), dtype=np.float32)\n",
    "\n",
    "    for idx, ds in enumerate(datasets):\n",
    "        slope = float(ds.get('RescaleSlope', 1.0))\n",
    "        intercept = float(ds.get('RescaleIntercept', 0.0))\n",
    "        volume[:, :, idx] = slope * np.array(ds.pixel_array, dtype=np.float32) + intercept\n",
    "\n",
    "    # Use average slice distance\n",
    "    first_position = np.array(datasets[0].ImagePositionPatient, dtype=np.float32)\n",
    "    last_position = np.array(datasets[-1].ImagePositionPatient, dtype=np.float32)\n",
    "    del_z = np.linalg.norm(first_position - last_position) / (len(datasets) - 1)\n",
    "\n",
    "    spacing = [del_x, del_y, del_z]\n",
    "\n",
    "    return volume, spacing"
   ]
  },
  {
   "cell_type": "code",
   "execution_count": null,
   "id": "126d05d3",
   "metadata": {},
   "outputs": [],
   "source": [
    "#| export\n",
    "def load_example_ct():\n",
    "    \"\"\"Load an example chest CT for demonstration purposes.\"\"\"\n",
    "    currdir = Path(__file__).resolve().parent\n",
    "    dcmdir = currdir / \"data/cxr\"\n",
    "    return read_dicom(dcmdir)"
   ]
  },
  {
   "cell_type": "code",
   "execution_count": null,
   "id": "e1da1619",
   "metadata": {},
   "outputs": [],
   "source": [
    "#| hide\n",
    "import nbdev; nbdev.nbdev_export()"
   ]
  },
  {
   "cell_type": "code",
   "execution_count": null,
   "id": "f50cec79",
   "metadata": {},
   "outputs": [],
   "source": []
  }
 ],
 "metadata": {
  "kernelspec": {
   "display_name": "python3",
   "language": "python",
   "name": "python3"
  }
 },
 "nbformat": 4,
 "nbformat_minor": 5
}
