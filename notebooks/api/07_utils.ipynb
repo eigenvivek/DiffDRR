{
 "cells": [
  {
   "cell_type": "raw",
   "id": "20e6611a-0fe6-41c0-bf7d-23f4698739e6",
   "metadata": {},
   "source": [
    "---\n",
    "title: utils\n",
    "subtitle: Utility functions\n",
    "skip_exec: true\n",
    "---"
   ]
  },
  {
   "cell_type": "markdown",
   "id": "671cead8-6d6c-434d-b50b-2db2514d1f81",
   "metadata": {},
   "source": [
    "## Intrinsic matrix parsing\n",
    "From a calibrated camera's intrinsic matrix, calculate the following properties:\n",
    "\n",
    "- Focal length (in units length)\n",
    "- Principal point (in units length)"
   ]
  },
  {
   "cell_type": "code",
   "execution_count": null,
   "id": "dbbdad47-033d-4124-8ab5-dba966e9c249",
   "metadata": {},
   "outputs": [],
   "source": [
    "#| default_exp utils"
   ]
  },
  {
   "cell_type": "code",
   "execution_count": null,
   "id": "c48a5d21-ba03-4cae-b0b6-d9463a043865",
   "metadata": {},
   "outputs": [],
   "source": [
    "#| hide\n",
    "from nbdev.showdoc import *"
   ]
  },
  {
   "cell_type": "code",
   "execution_count": null,
   "id": "2846f2e1-812c-4bae-9738-13b9c5a4c014",
   "metadata": {},
   "outputs": [],
   "source": [
    "#| export\n",
    "def get_focal_length(\n",
    "    intrinsic,  # Intrinsic matrix (3 x 3 tensor)\n",
    "    delx: float,  # X-direction spacing (in units length)\n",
    "    dely: float,  # Y-direction spacing (in units length)\n",
    ") -> float:  # Focal length (in units length)\n",
    "    fx = intrinsic[0, 0]\n",
    "    fy = intrinsic[1, 1]\n",
    "    return abs((fx * delx) + (fy * dely)).item() / 2.0"
   ]
  },
  {
   "cell_type": "code",
   "execution_count": null,
   "id": "5ab4b971-9371-4bdf-b94d-5bd1e1caec74",
   "metadata": {},
   "outputs": [],
   "source": [
    "#| export\n",
    "def get_principal_point(\n",
    "    intrinsic,  # Intrinsic matrix (3 x 3 tensor)\n",
    "    height: int,  # Y-direction length (in units pixels)\n",
    "    width: int,  # X-direction length (in units pixels)\n",
    "    delx: float,  # X-direction spacing (in units length)\n",
    "    dely: float,  # Y-direction spacing (in units length)\n",
    "):\n",
    "    x0 = delx * (intrinsic[0, 2] - width / 2)\n",
    "    y0 = dely * (intrinsic[1, 2] - height / 2)\n",
    "    return x0.item(), y0.item()"
   ]
  },
  {
   "cell_type": "code",
   "execution_count": null,
   "id": "0be083fc-0c95-4279-8923-de27e5e267eb",
   "metadata": {},
   "outputs": [],
   "source": [
    "#| export\n",
    "def parse_intrinsic_matrix(\n",
    "    intrinsic,  # Intrinsic matrix (3 x 3 tensor)\n",
    "    height: int,  # Y-direction length (in units pixels)\n",
    "    width: int,  # X-direction length (in units pixels)\n",
    "    delx: float,  # X-direction spacing (in units length)\n",
    "    dely: float,  # Y-direction spacing (in units length)\n",
    "):\n",
    "    focal_length = get_focal_length(intrinsic, delx, dely)\n",
    "    x0, y0 = get_principal_point(intrinsic, height, width, delx, dely)\n",
    "    return focal_length, x0, y0"
   ]
  },
  {
   "cell_type": "code",
   "execution_count": null,
   "id": "9119195d-bedf-4076-a7c0-87dd359c2b35",
   "metadata": {},
   "outputs": [],
   "source": [
    "#| export\n",
    "import torch\n",
    "\n",
    "\n",
    "def make_intrinsic_matrix(\n",
    "    sdd: float,  # Source-to-detector distance (in units length)\n",
    "    delx: float,  # X-direction spacing (in units length / pixel)\n",
    "    dely: float,  # Y-direction spacing (in units length / pixel)\n",
    "    height: int,  # Y-direction length (in units pixels)\n",
    "    width: int,  # X-direction length (in units pixels)\n",
    "    x0: float = 0.0,  # Principal point x-coordinate (in units length)\n",
    "    y0: float = 0.0,  # Principal point y-coordinate (in units length)\n",
    "):\n",
    "    return torch.tensor(\n",
    "        [\n",
    "            [sdd / delx, 0.0, x0 / delx + width / 2],\n",
    "            [0.0, sdd / dely, y0 / dely + height / 2],\n",
    "            [0.0, 0.0, 1.0],\n",
    "        ]\n",
    "        # [\n",
    "        #     [sdd / delx, 0.0, -x0 / delx + width / 2],\n",
    "        #     [0.0, sdd / dely, -y0 / dely + height / 2],\n",
    "        #     [0.0, 0.0, 1.0],\n",
    "        # ]\n",
    "    )"
   ]
  },
  {
   "cell_type": "code",
   "execution_count": null,
   "id": "ae47ec2a-0ce5-4317-8de4-47948bb4fb3f",
   "metadata": {},
   "outputs": [],
   "source": [
    "#| export\n",
    "from kornia.geometry.transform import center_crop, resize, translate\n",
    "\n",
    "\n",
    "def resample(\n",
    "    img,\n",
    "    focal_len,\n",
    "    delx,\n",
    "    x0=0,\n",
    "    y0=0,\n",
    "    new_focal_len=None,\n",
    "    new_delx=None,\n",
    "    new_x0=None,\n",
    "    new_y0=None,\n",
    "):\n",
    "    \"\"\"Resample an image with new intrinsic parameters.\"\"\"\n",
    "    if new_focal_len is None:\n",
    "        new_focal_len = focal_len\n",
    "    if new_delx is None:\n",
    "        new_delx = delx\n",
    "    if new_x0 is None:\n",
    "        new_x0 = x0\n",
    "    if new_y0 is None:\n",
    "        new_y0 = y0\n",
    "\n",
    "    x = img.clone()\n",
    "    _, _, height, width = x.shape\n",
    "    shape = torch.tensor([height, width])\n",
    "\n",
    "    # Translate the image\n",
    "    translation = torch.tensor([[new_x0 - x0, new_y0 - y0]]) / delx\n",
    "    x = translate(x, translation.to(x))\n",
    "\n",
    "    # Crop the image to change the focal length\n",
    "    focal_scaling = new_focal_len / focal_len\n",
    "    crop_size = (shape / focal_scaling).to(int).tolist()\n",
    "    x = center_crop(x, crop_size)\n",
    "    x = resize(x, (height, width))\n",
    "\n",
    "    # Pad the image to resize pixels\n",
    "    pixel_scaling = new_delx / delx\n",
    "    padding = (shape * (pixel_scaling - 1) / 2).to(int).tolist()\n",
    "    padding = [padding[1], padding[1], padding[0], padding[0]]\n",
    "    x = torch.nn.functional.pad(x, padding)\n",
    "    x = resize(x, (height, width))\n",
    "\n",
    "    return x"
   ]
  },
  {
   "cell_type": "code",
   "execution_count": null,
   "id": "bebf3c3d-f668-457b-8439-1ccdad433ca5",
   "metadata": {},
   "outputs": [],
   "source": [
    "#| hide\n",
    "import nbdev\n",
    "\n",
    "nbdev.nbdev_export()"
   ]
  },
  {
   "cell_type": "code",
   "execution_count": null,
   "id": "398a58d0-735d-40e0-a9c3-b407f1f3ff65",
   "metadata": {},
   "outputs": [],
   "source": []
  }
 ],
 "metadata": {
  "kernelspec": {
   "display_name": "python3",
   "language": "python",
   "name": "python3"
  },
  "widgets": {
   "application/vnd.jupyter.widget-state+json": {
    "state": {},
    "version_major": 2,
    "version_minor": 0
   }
  }
 },
 "nbformat": 4,
 "nbformat_minor": 5
}
