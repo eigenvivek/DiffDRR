{
 "cells": [
  {
   "cell_type": "raw",
   "id": "74264061",
   "metadata": {},
   "source": [
    "---\n",
    "output-file: timing.html\n",
    "skip_exec: true\n",
    "title: Timing versus DRR size\n",
    "---"
   ]
  },
  {
   "cell_type": "code",
   "execution_count": null,
   "id": "c5aaf036-9bef-4cd0-b91f-eed90f9fdff5",
   "metadata": {},
   "outputs": [],
   "source": [
    "%load_ext autoreload\n",
    "%autoreload 2"
   ]
  },
  {
   "cell_type": "code",
   "execution_count": null,
   "id": "28ec46c3",
   "metadata": {},
   "outputs": [],
   "source": [
    "import numpy as np\n",
    "import torch\n",
    "\n",
    "from diffdrr.drr import DRR\n",
    "from diffdrr.data import load_example_ct\n",
    "from diffdrr.visualization import plot_drr"
   ]
  },
  {
   "cell_type": "code",
   "execution_count": null,
   "id": "5430b880-75c5-4c74-b01d-4be5cf664354",
   "metadata": {},
   "outputs": [],
   "source": [
    "# Read in the volume\n",
    "volume, spacing = load_example_ct()\n",
    "device = \"cuda\" if torch.cuda.is_available() else \"cpu\"\n",
    "\n",
    "# Get parameters for the detector\n",
    "bx, by, bz = np.array(volume.shape) * np.array(spacing) / 2\n",
    "translations = torch.tensor([[bx, by, bz]]).to(device)\n",
    "rotations = torch.tensor([[np.pi, 0, np.pi / 2]]).to(device)"
   ]
  },
  {
   "cell_type": "code",
   "execution_count": null,
   "id": "086516f9",
   "metadata": {},
   "outputs": [
    {
     "name": "stdout",
     "output_type": "stream",
     "text": [
      "10.7 ms ± 217 µs per loop (mean ± std. dev. of 7 runs, 1 loop each)\n"
     ]
    }
   ],
   "source": [
    "#|cuda\n",
    "height = 100\n",
    "\n",
    "drr = DRR(volume, spacing, sdr=300.0, height=height, delx=4.0).to(device)\n",
    "%timeit drr(rotations, translations)\n",
    "del drr"
   ]
  },
  {
   "cell_type": "code",
   "execution_count": null,
   "id": "9db204ac",
   "metadata": {},
   "outputs": [
    {
     "name": "stdout",
     "output_type": "stream",
     "text": [
      "35.2 ms ± 34.8 µs per loop (mean ± std. dev. of 7 runs, 10 loops each)\n"
     ]
    }
   ],
   "source": [
    "#|cuda\n",
    "height = 200\n",
    "\n",
    "drr = DRR(volume, spacing, sdr=300.0, height=height, delx=4.0).to(\"cuda\" if torch.cuda.is_available() else \"cpu\")\n",
    "%timeit drr(rotations, translations)\n",
    "del drr"
   ]
  },
  {
   "cell_type": "code",
   "execution_count": null,
   "id": "18ab3fb5",
   "metadata": {},
   "outputs": [
    {
     "name": "stdout",
     "output_type": "stream",
     "text": [
      "74.7 ms ± 57.2 µs per loop (mean ± std. dev. of 7 runs, 10 loops each)\n"
     ]
    }
   ],
   "source": [
    "#|cuda\n",
    "height = 300\n",
    "\n",
    "drr = DRR(volume, spacing, sdr=300.0, height=height, delx=4.0).to(\"cuda\" if torch.cuda.is_available() else \"cpu\")\n",
    "%timeit drr(rotations, translations)\n",
    "del drr"
   ]
  },
  {
   "cell_type": "code",
   "execution_count": null,
   "id": "c9a1b0ef",
   "metadata": {},
   "outputs": [
    {
     "name": "stdout",
     "output_type": "stream",
     "text": [
      "126 ms ± 80.9 µs per loop (mean ± std. dev. of 7 runs, 10 loops each)\n"
     ]
    }
   ],
   "source": [
    "#|cuda\n",
    "height = 400\n",
    "\n",
    "drr = DRR(volume, spacing, sdr=300.0, height=height, delx=4.0).to(\"cuda\" if torch.cuda.is_available() else \"cpu\")\n",
    "%timeit drr(rotations, translations)\n",
    "del drr"
   ]
  },
  {
   "cell_type": "code",
   "execution_count": null,
   "id": "da0c1156-3c6b-4c45-8207-ffe801a54893",
   "metadata": {},
   "outputs": [
    {
     "name": "stdout",
     "output_type": "stream",
     "text": [
      "186 ms ± 29.7 ms per loop (mean ± std. dev. of 7 runs, 1 loop each)\n"
     ]
    }
   ],
   "source": [
    "#|cuda\n",
    "height = 500\n",
    "\n",
    "drr = DRR(volume, spacing, sdr=300.0, height=height, delx=4.0).to(\"cuda\" if torch.cuda.is_available() else \"cpu\")\n",
    "%timeit drr(rotations, translations)\n",
    "del drr"
   ]
  },
  {
   "cell_type": "markdown",
   "id": "8c584ea5-2dc5-4606-ad9c-c04f4fca8ac3",
   "metadata": {},
   "source": [
    "### Memory constraints\n",
    "\n",
    "Up until this point, we could compute every ray in the DRR in one go on the GPU. However, as the DRRs get bigger, we will quickly run out of memory. For example, on a 12 GB GPU, computing a 600 by 600 DRR will raise a CUDA memory error.\n",
    "\n",
    "Instead, we can compute patches of the DRR at a time. Pass `patch_size` to the `DRR` module to specify the size of the patch. Note the patch size must evenly tile (`height`, `width`)."
   ]
  },
  {
   "cell_type": "code",
   "execution_count": null,
   "id": "5bf046d9-f69c-4ff0-a3a2-d6f2e5976025",
   "metadata": {},
   "outputs": [
    {
     "name": "stdout",
     "output_type": "stream",
     "text": [
      "189 ms ± 56.7 µs per loop (mean ± std. dev. of 7 runs, 10 loops each)\n"
     ]
    }
   ],
   "source": [
    "#|cuda\n",
    "height = 600\n",
    "patch_size = 150\n",
    "\n",
    "drr = DRR(volume, spacing, sdr=300.0, height=height, delx=4.0, patch_size=patch_size).to(\"cuda\" if torch.cuda.is_available() else \"cpu\")\n",
    "%timeit drr(rotations, translations)\n",
    "del drr"
   ]
  },
  {
   "cell_type": "code",
   "execution_count": null,
   "id": "46cf1e62-6577-4ec3-8601-154606b739ff",
   "metadata": {},
   "outputs": [
    {
     "name": "stdout",
     "output_type": "stream",
     "text": [
      "270 ms ± 224 µs per loop (mean ± std. dev. of 7 runs, 1 loop each)\n"
     ]
    }
   ],
   "source": [
    "#|cuda\n",
    "height = 750\n",
    "patch_size = 150\n",
    "\n",
    "drr = DRR(volume, spacing, sdr=300.0, height=height, delx=4.0, patch_size=patch_size).to(\"cuda\" if torch.cuda.is_available() else \"cpu\")\n",
    "%timeit drr(rotations, translations)\n",
    "del drr"
   ]
  },
  {
   "cell_type": "code",
   "execution_count": null,
   "id": "6517d886-827f-47e8-aaea-a752dafcc532",
   "metadata": {},
   "outputs": [
    {
     "name": "stdout",
     "output_type": "stream",
     "text": [
      "429 ms ± 235 µs per loop (mean ± std. dev. of 7 runs, 1 loop each)\n"
     ]
    }
   ],
   "source": [
    "#|cuda\n",
    "height = 1000\n",
    "patch_size = 250\n",
    "\n",
    "drr = DRR(volume, spacing, sdr=300.0, height=height, delx=4.0, patch_size=patch_size).to(\"cuda\" if torch.cuda.is_available() else \"cpu\")\n",
    "%timeit drr(rotations, translations)\n",
    "del drr"
   ]
  },
  {
   "cell_type": "code",
   "execution_count": null,
   "id": "8424af74-8d72-4207-a39a-cd04b3c63914",
   "metadata": {},
   "outputs": [
    {
     "name": "stdout",
     "output_type": "stream",
     "text": [
      "854 ms ± 1.26 ms per loop (mean ± std. dev. of 7 runs, 1 loop each)\n"
     ]
    }
   ],
   "source": [
    "#|cuda\n",
    "height = 1500\n",
    "patch_size = 250\n",
    "\n",
    "drr = DRR(volume, spacing, sdr=300.0, height=height, delx=4.0, patch_size=patch_size).to(\"cuda\" if torch.cuda.is_available() else \"cpu\")\n",
    "%timeit drr(rotations, translations)\n",
    "del drr"
   ]
  },
  {
   "cell_type": "markdown",
   "id": "80cf9446-d367-45e4-965c-2bb8f48f6bb9",
   "metadata": {},
   "source": [
    "With `patch_size`, the only limitation is DRR storage, not computation."
   ]
  },
  {
   "cell_type": "code",
   "execution_count": null,
   "id": "a5f8b407-4c59-4bfb-983c-92c97b9960d5",
   "metadata": {},
   "outputs": [],
   "source": []
  }
 ],
 "metadata": {
  "kernelspec": {
   "display_name": "python3",
   "language": "python",
   "name": "python3"
  }
 },
 "nbformat": 4,
 "nbformat_minor": 5
}
